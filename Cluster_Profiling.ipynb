{
 "cells": [
  {
   "cell_type": "code",
   "execution_count": 1,
   "id": "aae10299",
   "metadata": {},
   "outputs": [
    {
     "name": "stdout",
     "output_type": "stream",
     "text": [
      "Requirement already satisfied: pandas in c:\\users\\abdul aziz\\.conda\\envs\\pycarete\\lib\\site-packages (1.3.5)\n",
      "Requirement already satisfied: scipy in c:\\users\\abdul aziz\\appdata\\roaming\\python\\python37\\site-packages (1.5.4)\n",
      "Requirement already satisfied: pytz>=2017.3 in c:\\users\\abdul aziz\\.conda\\envs\\pycarete\\lib\\site-packages (from pandas) (2022.1)\n",
      "Requirement already satisfied: python-dateutil>=2.7.3 in c:\\users\\abdul aziz\\.conda\\envs\\pycarete\\lib\\site-packages (from pandas) (2.8.2)\n",
      "Requirement already satisfied: numpy>=1.17.3 in c:\\users\\abdul aziz\\.conda\\envs\\pycarete\\lib\\site-packages (from pandas) (1.21.6)\n",
      "Requirement already satisfied: six>=1.5 in c:\\users\\abdul aziz\\.conda\\envs\\pycarete\\lib\\site-packages (from python-dateutil>=2.7.3->pandas) (1.16.0)\n",
      "Note: you may need to restart the kernel to use updated packages.\n"
     ]
    }
   ],
   "source": [
    "pip install pandas scipy"
   ]
  },
  {
   "cell_type": "code",
   "execution_count": 2,
   "id": "ce0c7ccf",
   "metadata": {},
   "outputs": [],
   "source": [
    "from scipy.cluster.hierarchy import linkage, fcluster\n",
    "import pandas as pd"
   ]
  },
  {
   "cell_type": "code",
   "execution_count": 3,
   "id": "e639ddbe",
   "metadata": {},
   "outputs": [],
   "source": [
    "file_path = 'feedback_Testing.xlsx'\n",
    "df = pd.read_excel(file_path)"
   ]
  },
  {
   "cell_type": "code",
   "execution_count": 4,
   "id": "0a6ff4b1",
   "metadata": {},
   "outputs": [],
   "source": [
    "input_channels = ['Email', 'Feedback form', 'Survey', 'Interviews', 'Dataset Like/Vote/Rate/Fav']\n",
    "output_channels = ['Blog/News', 'Newsletter']\n",
    "both_channels = ['Social Media', 'User Forum / Discussion Forum']"
   ]
  },
  {
   "cell_type": "code",
   "execution_count": 5,
   "id": "b09ca46f",
   "metadata": {},
   "outputs": [],
   "source": [
    "data_for_clustering = df.set_index('Country')"
   ]
  },
  {
   "cell_type": "code",
   "execution_count": 6,
   "id": "806fc9f0",
   "metadata": {},
   "outputs": [],
   "source": [
    "# Perform hierarchical clustering\n",
    "linkage_matrix = linkage(data_for_clustering, method='ward')"
   ]
  },
  {
   "cell_type": "code",
   "execution_count": 7,
   "id": "377bcd2c",
   "metadata": {},
   "outputs": [],
   "source": [
    "# Assign clusters based on a threshold (e.g., 3 clusters)\n",
    "n_clusters = 3\n",
    "cluster_labels = fcluster(linkage_matrix, t=n_clusters, criterion='maxclust')\n",
    "data_for_clustering['Cluster'] = cluster_labels"
   ]
  },
  {
   "cell_type": "code",
   "execution_count": 8,
   "id": "4082e370",
   "metadata": {},
   "outputs": [],
   "source": [
    "# Calculate the mean for each cluster\n",
    "cluster_profiles = data_for_clustering.groupby('Cluster').mean()\n"
   ]
  },
  {
   "cell_type": "code",
   "execution_count": 9,
   "id": "befc3b10",
   "metadata": {},
   "outputs": [],
   "source": [
    "# Add the number of countries in each cluster\n",
    "cluster_profiles['Country Count'] = data_for_clustering['Cluster'].value_counts()\n"
   ]
  },
  {
   "cell_type": "code",
   "execution_count": 10,
   "id": "186ed7a6",
   "metadata": {},
   "outputs": [
    {
     "name": "stdout",
     "output_type": "stream",
     "text": [
      "Cluster                               1    2          3\n",
      "Email                          1.000000  1.0   1.000000\n",
      "Feedback form                  1.000000  0.8   0.941176\n",
      "Survey                         0.000000  0.0   0.411765\n",
      " Interviews                    0.428571  1.0   0.647059\n",
      "Dataset Like/Vote/Rate/Fav     0.428571  0.6   0.588235\n",
      "Blog/News                      0.000000  0.8   1.000000\n",
      "Newsletter                     0.000000  0.0   0.411765\n",
      "Social Media                   0.714286  1.0   1.000000\n",
      "User Forum / Discussion Forum  0.000000  1.0   0.058824\n",
      "Country Count                  7.000000  5.0  17.000000\n"
     ]
    }
   ],
   "source": [
    "# Display the cluster profiles\n",
    "print(cluster_profiles.T)"
   ]
  },
  {
   "cell_type": "code",
   "execution_count": 11,
   "id": "7330a6bd",
   "metadata": {},
   "outputs": [
    {
     "data": {
      "text/html": [
       "<div>\n",
       "<style scoped>\n",
       "    .dataframe tbody tr th:only-of-type {\n",
       "        vertical-align: middle;\n",
       "    }\n",
       "\n",
       "    .dataframe tbody tr th {\n",
       "        vertical-align: top;\n",
       "    }\n",
       "\n",
       "    .dataframe thead th {\n",
       "        text-align: right;\n",
       "    }\n",
       "</style>\n",
       "<table border=\"1\" class=\"dataframe\">\n",
       "  <thead>\n",
       "    <tr style=\"text-align: right;\">\n",
       "      <th>Cluster</th>\n",
       "      <th>1</th>\n",
       "      <th>2</th>\n",
       "      <th>3</th>\n",
       "    </tr>\n",
       "  </thead>\n",
       "  <tbody>\n",
       "    <tr>\n",
       "      <th>Email</th>\n",
       "      <td>1.000000</td>\n",
       "      <td>1.0</td>\n",
       "      <td>1.000000</td>\n",
       "    </tr>\n",
       "    <tr>\n",
       "      <th>Feedback form</th>\n",
       "      <td>1.000000</td>\n",
       "      <td>0.8</td>\n",
       "      <td>0.941176</td>\n",
       "    </tr>\n",
       "    <tr>\n",
       "      <th>Survey</th>\n",
       "      <td>0.000000</td>\n",
       "      <td>0.0</td>\n",
       "      <td>0.411765</td>\n",
       "    </tr>\n",
       "    <tr>\n",
       "      <th>Interviews</th>\n",
       "      <td>0.428571</td>\n",
       "      <td>1.0</td>\n",
       "      <td>0.647059</td>\n",
       "    </tr>\n",
       "    <tr>\n",
       "      <th>Dataset Like/Vote/Rate/Fav</th>\n",
       "      <td>0.428571</td>\n",
       "      <td>0.6</td>\n",
       "      <td>0.588235</td>\n",
       "    </tr>\n",
       "    <tr>\n",
       "      <th>Blog/News</th>\n",
       "      <td>0.000000</td>\n",
       "      <td>0.8</td>\n",
       "      <td>1.000000</td>\n",
       "    </tr>\n",
       "    <tr>\n",
       "      <th>Newsletter</th>\n",
       "      <td>0.000000</td>\n",
       "      <td>0.0</td>\n",
       "      <td>0.411765</td>\n",
       "    </tr>\n",
       "    <tr>\n",
       "      <th>Social Media</th>\n",
       "      <td>0.714286</td>\n",
       "      <td>1.0</td>\n",
       "      <td>1.000000</td>\n",
       "    </tr>\n",
       "    <tr>\n",
       "      <th>User Forum / Discussion Forum</th>\n",
       "      <td>0.000000</td>\n",
       "      <td>1.0</td>\n",
       "      <td>0.058824</td>\n",
       "    </tr>\n",
       "    <tr>\n",
       "      <th>Country Count</th>\n",
       "      <td>7.000000</td>\n",
       "      <td>5.0</td>\n",
       "      <td>17.000000</td>\n",
       "    </tr>\n",
       "  </tbody>\n",
       "</table>\n",
       "</div>"
      ],
      "text/plain": [
       "Cluster                               1    2          3\n",
       "Email                          1.000000  1.0   1.000000\n",
       "Feedback form                  1.000000  0.8   0.941176\n",
       "Survey                         0.000000  0.0   0.411765\n",
       " Interviews                    0.428571  1.0   0.647059\n",
       "Dataset Like/Vote/Rate/Fav     0.428571  0.6   0.588235\n",
       "Blog/News                      0.000000  0.8   1.000000\n",
       "Newsletter                     0.000000  0.0   0.411765\n",
       "Social Media                   0.714286  1.0   1.000000\n",
       "User Forum / Discussion Forum  0.000000  1.0   0.058824\n",
       "Country Count                  7.000000  5.0  17.000000"
      ]
     },
     "execution_count": 11,
     "metadata": {},
     "output_type": "execute_result"
    }
   ],
   "source": [
    "cluster_profiles.T"
   ]
  },
  {
   "cell_type": "code",
   "execution_count": 12,
   "id": "b10a4cb4",
   "metadata": {},
   "outputs": [],
   "source": [
    "from sklearn.cluster import KMeans\n",
    "from sklearn.metrics import silhouette_score"
   ]
  },
  {
   "cell_type": "code",
   "execution_count": 13,
   "id": "66fbf62a",
   "metadata": {},
   "outputs": [],
   "source": [
    "# Test for different cluster sizes (2 to 10)\n",
    "inertia = []\n",
    "silhouette_scores = []"
   ]
  },
  {
   "cell_type": "code",
   "execution_count": 16,
   "id": "b5accac9",
   "metadata": {},
   "outputs": [],
   "source": [
    "for k in range(2, 11):\n",
    "    kmeans = KMeans(n_clusters=k, random_state=42)\n",
    "    kmeans.fit(data_for_clustering)\n",
    "    inertia.append(kmeans.inertia_)\n",
    "    silhouette_scores.append(silhouette_score(data_for_clustering, kmeans.labels_))"
   ]
  },
  {
   "cell_type": "code",
   "execution_count": 17,
   "id": "f8287af0",
   "metadata": {},
   "outputs": [
    {
     "name": "stdout",
     "output_type": "stream",
     "text": [
      "Optimal number of clusters: 2\n"
     ]
    }
   ],
   "source": [
    "# Determine the optimal number of clusters\n",
    "optimal_k = range(2, 11)[silhouette_scores.index(max(silhouette_scores))]\n",
    "print(f'Optimal number of clusters: {optimal_k}')"
   ]
  },
  {
   "cell_type": "code",
   "execution_count": 19,
   "id": "abf2f5d9",
   "metadata": {},
   "outputs": [],
   "source": [
    "# Final K-means clustering with the optimal number of clusters\n",
    "final_kmeans = KMeans(n_clusters=optimal_k, random_state=42)\n",
    "final_kmeans.fit(data_for_clustering)\n",
    "data_for_clustering['Cluster'] = final_kmeans.labels_"
   ]
  },
  {
   "cell_type": "code",
   "execution_count": 20,
   "id": "0b924528",
   "metadata": {},
   "outputs": [
    {
     "name": "stdout",
     "output_type": "stream",
     "text": [
      "         Email  Feedback form    Survey   Interviews  \\\n",
      "Cluster                                                \n",
      "0          1.0       1.000000  0.000000     0.500000   \n",
      "1          1.0       0.904762  0.333333     0.714286   \n",
      "\n",
      "         Dataset Like/Vote/Rate/Fav  Blog/News  Newsletter  Social Media  \\\n",
      "Cluster                                                                    \n",
      "0                          0.375000        0.0    0.000000          0.75   \n",
      "1                          0.619048        1.0    0.333333          1.00   \n",
      "\n",
      "         User Forum / Discussion Forum  \n",
      "Cluster                                 \n",
      "0                             0.125000  \n",
      "1                             0.238095  \n"
     ]
    }
   ],
   "source": [
    "# Summarize clusters\n",
    "cluster_summary = data_for_clustering.groupby('Cluster').mean()\n",
    "print(cluster_summary)"
   ]
  },
  {
   "cell_type": "code",
   "execution_count": 21,
   "id": "07e64d55",
   "metadata": {},
   "outputs": [
    {
     "data": {
      "text/html": [
       "<div>\n",
       "<style scoped>\n",
       "    .dataframe tbody tr th:only-of-type {\n",
       "        vertical-align: middle;\n",
       "    }\n",
       "\n",
       "    .dataframe tbody tr th {\n",
       "        vertical-align: top;\n",
       "    }\n",
       "\n",
       "    .dataframe thead th {\n",
       "        text-align: right;\n",
       "    }\n",
       "</style>\n",
       "<table border=\"1\" class=\"dataframe\">\n",
       "  <thead>\n",
       "    <tr style=\"text-align: right;\">\n",
       "      <th></th>\n",
       "      <th>Email</th>\n",
       "      <th>Feedback form</th>\n",
       "      <th>Survey</th>\n",
       "      <th>Interviews</th>\n",
       "      <th>Dataset Like/Vote/Rate/Fav</th>\n",
       "      <th>Blog/News</th>\n",
       "      <th>Newsletter</th>\n",
       "      <th>Social Media</th>\n",
       "      <th>User Forum / Discussion Forum</th>\n",
       "    </tr>\n",
       "    <tr>\n",
       "      <th>Cluster</th>\n",
       "      <th></th>\n",
       "      <th></th>\n",
       "      <th></th>\n",
       "      <th></th>\n",
       "      <th></th>\n",
       "      <th></th>\n",
       "      <th></th>\n",
       "      <th></th>\n",
       "      <th></th>\n",
       "    </tr>\n",
       "  </thead>\n",
       "  <tbody>\n",
       "    <tr>\n",
       "      <th>0</th>\n",
       "      <td>1.0</td>\n",
       "      <td>1.000000</td>\n",
       "      <td>0.000000</td>\n",
       "      <td>0.500000</td>\n",
       "      <td>0.375000</td>\n",
       "      <td>0.0</td>\n",
       "      <td>0.000000</td>\n",
       "      <td>0.75</td>\n",
       "      <td>0.125000</td>\n",
       "    </tr>\n",
       "    <tr>\n",
       "      <th>1</th>\n",
       "      <td>1.0</td>\n",
       "      <td>0.904762</td>\n",
       "      <td>0.333333</td>\n",
       "      <td>0.714286</td>\n",
       "      <td>0.619048</td>\n",
       "      <td>1.0</td>\n",
       "      <td>0.333333</td>\n",
       "      <td>1.00</td>\n",
       "      <td>0.238095</td>\n",
       "    </tr>\n",
       "  </tbody>\n",
       "</table>\n",
       "</div>"
      ],
      "text/plain": [
       "         Email  Feedback form    Survey   Interviews  \\\n",
       "Cluster                                                \n",
       "0          1.0       1.000000  0.000000     0.500000   \n",
       "1          1.0       0.904762  0.333333     0.714286   \n",
       "\n",
       "         Dataset Like/Vote/Rate/Fav  Blog/News  Newsletter  Social Media  \\\n",
       "Cluster                                                                    \n",
       "0                          0.375000        0.0    0.000000          0.75   \n",
       "1                          0.619048        1.0    0.333333          1.00   \n",
       "\n",
       "         User Forum / Discussion Forum  \n",
       "Cluster                                 \n",
       "0                             0.125000  \n",
       "1                             0.238095  "
      ]
     },
     "execution_count": 21,
     "metadata": {},
     "output_type": "execute_result"
    }
   ],
   "source": [
    "cluster_summary"
   ]
  },
  {
   "cell_type": "code",
   "execution_count": null,
   "id": "f60d2691",
   "metadata": {},
   "outputs": [],
   "source": []
  },
  {
   "cell_type": "code",
   "execution_count": null,
   "id": "6c5f793a",
   "metadata": {},
   "outputs": [],
   "source": []
  },
  {
   "cell_type": "code",
   "execution_count": 22,
   "id": "f9daeac3",
   "metadata": {},
   "outputs": [],
   "source": [
    "# Group the data by clusters and calculate the mean for each feedback channel\n",
    "cluster_profiles = data_for_clustering.groupby('Cluster').mean()"
   ]
  },
  {
   "cell_type": "code",
   "execution_count": 23,
   "id": "0af66a57",
   "metadata": {},
   "outputs": [],
   "source": [
    "# Add a count of the countries in each cluster\n",
    "cluster_profiles['Country Count'] = data_for_clustering['Cluster'].value_counts()"
   ]
  },
  {
   "cell_type": "code",
   "execution_count": 24,
   "id": "cc166309",
   "metadata": {},
   "outputs": [
    {
     "name": "stdout",
     "output_type": "stream",
     "text": [
      "Cluster                            0          1\n",
      "Email                          1.000   1.000000\n",
      "Feedback form                  1.000   0.904762\n",
      "Survey                         0.000   0.333333\n",
      " Interviews                    0.500   0.714286\n",
      "Dataset Like/Vote/Rate/Fav     0.375   0.619048\n",
      "Blog/News                      0.000   1.000000\n",
      "Newsletter                     0.000   0.333333\n",
      "Social Media                   0.750   1.000000\n",
      "User Forum / Discussion Forum  0.125   0.238095\n",
      "Country Count                  8.000  21.000000\n"
     ]
    }
   ],
   "source": [
    "# Transpose for better readability\n",
    "cluster_profiles_transposed = cluster_profiles.T\n",
    "print(cluster_profiles_transposed)"
   ]
  },
  {
   "cell_type": "code",
   "execution_count": 25,
   "id": "1ce2dc21",
   "metadata": {},
   "outputs": [
    {
     "data": {
      "text/html": [
       "<div>\n",
       "<style scoped>\n",
       "    .dataframe tbody tr th:only-of-type {\n",
       "        vertical-align: middle;\n",
       "    }\n",
       "\n",
       "    .dataframe tbody tr th {\n",
       "        vertical-align: top;\n",
       "    }\n",
       "\n",
       "    .dataframe thead th {\n",
       "        text-align: right;\n",
       "    }\n",
       "</style>\n",
       "<table border=\"1\" class=\"dataframe\">\n",
       "  <thead>\n",
       "    <tr style=\"text-align: right;\">\n",
       "      <th>Cluster</th>\n",
       "      <th>0</th>\n",
       "      <th>1</th>\n",
       "    </tr>\n",
       "  </thead>\n",
       "  <tbody>\n",
       "    <tr>\n",
       "      <th>Email</th>\n",
       "      <td>1.000</td>\n",
       "      <td>1.000000</td>\n",
       "    </tr>\n",
       "    <tr>\n",
       "      <th>Feedback form</th>\n",
       "      <td>1.000</td>\n",
       "      <td>0.904762</td>\n",
       "    </tr>\n",
       "    <tr>\n",
       "      <th>Survey</th>\n",
       "      <td>0.000</td>\n",
       "      <td>0.333333</td>\n",
       "    </tr>\n",
       "    <tr>\n",
       "      <th>Interviews</th>\n",
       "      <td>0.500</td>\n",
       "      <td>0.714286</td>\n",
       "    </tr>\n",
       "    <tr>\n",
       "      <th>Dataset Like/Vote/Rate/Fav</th>\n",
       "      <td>0.375</td>\n",
       "      <td>0.619048</td>\n",
       "    </tr>\n",
       "    <tr>\n",
       "      <th>Blog/News</th>\n",
       "      <td>0.000</td>\n",
       "      <td>1.000000</td>\n",
       "    </tr>\n",
       "    <tr>\n",
       "      <th>Newsletter</th>\n",
       "      <td>0.000</td>\n",
       "      <td>0.333333</td>\n",
       "    </tr>\n",
       "    <tr>\n",
       "      <th>Social Media</th>\n",
       "      <td>0.750</td>\n",
       "      <td>1.000000</td>\n",
       "    </tr>\n",
       "    <tr>\n",
       "      <th>User Forum / Discussion Forum</th>\n",
       "      <td>0.125</td>\n",
       "      <td>0.238095</td>\n",
       "    </tr>\n",
       "    <tr>\n",
       "      <th>Country Count</th>\n",
       "      <td>8.000</td>\n",
       "      <td>21.000000</td>\n",
       "    </tr>\n",
       "  </tbody>\n",
       "</table>\n",
       "</div>"
      ],
      "text/plain": [
       "Cluster                            0          1\n",
       "Email                          1.000   1.000000\n",
       "Feedback form                  1.000   0.904762\n",
       "Survey                         0.000   0.333333\n",
       " Interviews                    0.500   0.714286\n",
       "Dataset Like/Vote/Rate/Fav     0.375   0.619048\n",
       "Blog/News                      0.000   1.000000\n",
       "Newsletter                     0.000   0.333333\n",
       "Social Media                   0.750   1.000000\n",
       "User Forum / Discussion Forum  0.125   0.238095\n",
       "Country Count                  8.000  21.000000"
      ]
     },
     "execution_count": 25,
     "metadata": {},
     "output_type": "execute_result"
    }
   ],
   "source": [
    "cluster_profiles_transposed"
   ]
  },
  {
   "cell_type": "code",
   "execution_count": null,
   "id": "4b467352",
   "metadata": {},
   "outputs": [],
   "source": []
  },
  {
   "cell_type": "code",
   "execution_count": null,
   "id": "6e960ffb",
   "metadata": {},
   "outputs": [],
   "source": []
  },
  {
   "cell_type": "code",
   "execution_count": 28,
   "id": "d6a6efd3",
   "metadata": {},
   "outputs": [],
   "source": [
    "# Add country names to the clustered data if not already included\n",
    "data_for_clustering['Country'] = df['Country']  # Replace with actual column name for countries\n"
   ]
  },
  {
   "cell_type": "code",
   "execution_count": 29,
   "id": "9aa6b6c3",
   "metadata": {},
   "outputs": [
    {
     "name": "stdout",
     "output_type": "stream",
     "text": [
      "Cluster\n",
      "0             [nan, nan, nan, nan, nan, nan, nan, nan]\n",
      "1    [nan, nan, nan, nan, nan, nan, nan, nan, nan, ...\n",
      "Name: Country, dtype: object\n"
     ]
    }
   ],
   "source": [
    "# Group countries by cluster and display\n",
    "countries_by_cluster = data_for_clustering.groupby('Cluster')['Country'].apply(list)\n",
    "print(countries_by_cluster)"
   ]
  },
  {
   "cell_type": "code",
   "execution_count": null,
   "id": "2bb701e7",
   "metadata": {},
   "outputs": [],
   "source": [
    "**Another Try***"
   ]
  },
  {
   "cell_type": "code",
   "execution_count": null,
   "id": "425a6bbc",
   "metadata": {},
   "outputs": [],
   "source": [
    "**Another Try***"
   ]
  },
  {
   "cell_type": "code",
   "execution_count": 30,
   "id": "fede2bbd",
   "metadata": {},
   "outputs": [
    {
     "name": "stdout",
     "output_type": "stream",
     "text": [
      "Requirement already satisfied: pandas in c:\\users\\abdul aziz\\.conda\\envs\\pycarete\\lib\\site-packages (1.3.5)\n",
      "Requirement already satisfied: scipy in c:\\users\\abdul aziz\\appdata\\roaming\\python\\python37\\site-packages (1.5.4)\n",
      "Requirement already satisfied: matplotlib in c:\\users\\abdul aziz\\appdata\\roaming\\python\\python37\\site-packages (3.5.2)\n",
      "Requirement already satisfied: numpy>=1.17.3 in c:\\users\\abdul aziz\\.conda\\envs\\pycarete\\lib\\site-packages (from pandas) (1.21.6)\n",
      "Requirement already satisfied: python-dateutil>=2.7.3 in c:\\users\\abdul aziz\\.conda\\envs\\pycarete\\lib\\site-packages (from pandas) (2.8.2)\n",
      "Requirement already satisfied: pytz>=2017.3 in c:\\users\\abdul aziz\\.conda\\envs\\pycarete\\lib\\site-packages (from pandas) (2022.1)\n",
      "Requirement already satisfied: packaging>=20.0 in c:\\users\\abdul aziz\\.conda\\envs\\pycarete\\lib\\site-packages (from matplotlib) (21.3)\n",
      "Requirement already satisfied: cycler>=0.10 in c:\\users\\abdul aziz\\appdata\\roaming\\python\\python37\\site-packages (from matplotlib) (0.11.0)\n",
      "Requirement already satisfied: pyparsing>=2.2.1 in c:\\users\\abdul aziz\\.conda\\envs\\pycarete\\lib\\site-packages (from matplotlib) (3.0.4)\n",
      "Requirement already satisfied: fonttools>=4.22.0 in c:\\users\\abdul aziz\\appdata\\roaming\\python\\python37\\site-packages (from matplotlib) (4.34.4)\n",
      "Requirement already satisfied: kiwisolver>=1.0.1 in c:\\users\\abdul aziz\\appdata\\roaming\\python\\python37\\site-packages (from matplotlib) (1.4.4)\n",
      "Requirement already satisfied: pillow>=6.2.0 in c:\\users\\abdul aziz\\appdata\\roaming\\python\\python37\\site-packages (from matplotlib) (9.2.0)\n",
      "Requirement already satisfied: typing-extensions in c:\\users\\abdul aziz\\.conda\\envs\\pycarete\\lib\\site-packages (from kiwisolver>=1.0.1->matplotlib) (4.1.1)\n",
      "Requirement already satisfied: six>=1.5 in c:\\users\\abdul aziz\\.conda\\envs\\pycarete\\lib\\site-packages (from python-dateutil>=2.7.3->pandas) (1.16.0)\n",
      "Note: you may need to restart the kernel to use updated packages.\n"
     ]
    }
   ],
   "source": [
    "pip install pandas scipy matplotlib\n"
   ]
  },
  {
   "cell_type": "code",
   "execution_count": 31,
   "id": "eb1e2887",
   "metadata": {},
   "outputs": [],
   "source": [
    "import pandas as pd\n",
    "from scipy.cluster.hierarchy import linkage, dendrogram, fcluster\n",
    "import matplotlib.pyplot as plt"
   ]
  },
  {
   "cell_type": "code",
   "execution_count": 32,
   "id": "23848e5b",
   "metadata": {},
   "outputs": [],
   "source": [
    "file_path = 'feedback_Testing.xlsx'  # Replace with the path to your file\n",
    "df = pd.read_excel(file_path)"
   ]
  },
  {
   "cell_type": "code",
   "execution_count": 33,
   "id": "0c0540d3",
   "metadata": {},
   "outputs": [],
   "source": [
    "data_for_clustering = df.drop(columns=['Country'])"
   ]
  },
  {
   "cell_type": "code",
   "execution_count": 34,
   "id": "5b518150",
   "metadata": {},
   "outputs": [],
   "source": [
    "linkage_matrix = linkage(data_for_clustering, method='ward')\n"
   ]
  },
  {
   "cell_type": "code",
   "execution_count": 35,
   "id": "22e4aebb",
   "metadata": {},
   "outputs": [
    {
     "data": {
      "image/png": "[encoded data removed]",
      "text/plain": [
       "<Figure size 720x432 with 1 Axes>"
      ]
     },
     "metadata": {
      "needs_background": "light"
     },
     "output_type": "display_data"
    }
   ],
   "source": [
    "# Step 4: Plot the dendrogram\n",
    "plt.figure(figsize=(10, 6))\n",
    "dendrogram(linkage_matrix, labels=df['Country'].values, leaf_rotation=90, leaf_font_size=10)\n",
    "plt.title(\"Dendrogram of Countries Based on Feedback Channels\")\n",
    "plt.xlabel(\"Countries\")\n",
    "plt.ylabel(\"Euclidean Distance\")\n",
    "plt.show()"
   ]
  },
  {
   "cell_type": "code",
   "execution_count": 50,
   "id": "fa5eec76",
   "metadata": {},
   "outputs": [],
   "source": [
    "# Step 5: Assign clusters based on a distance threshold\n",
    "threshold = 10  # Adjust this to control the number of clusters\n",
    "clusters = fcluster(linkage_matrix, t=3, criterion='distance')"
   ]
  },
  {
   "cell_type": "code",
   "execution_count": 51,
   "id": "9a367dd5",
   "metadata": {},
   "outputs": [],
   "source": [
    "# Add the cluster labels to the DataFrame\n",
    "df['Cluster'] = clusters"
   ]
  },
  {
   "cell_type": "code",
   "execution_count": 52,
   "id": "e5f347bd",
   "metadata": {},
   "outputs": [],
   "source": [
    "# Step 6: Create a cluster profiling table\n",
    "cluster_profiles = df.groupby('Cluster').mean()"
   ]
  },
  {
   "cell_type": "code",
   "execution_count": 53,
   "id": "bb9d0ea8",
   "metadata": {},
   "outputs": [],
   "source": [
    "# Add a list of countries for each cluster\n",
    "cluster_profiles['Countries'] = df.groupby('Cluster')['Country'].apply(list)\n"
   ]
  },
  {
   "cell_type": "code",
   "execution_count": 54,
   "id": "2bc451ac",
   "metadata": {},
   "outputs": [
    {
     "name": "stdout",
     "output_type": "stream",
     "text": [
      "   Cluster  Email  Feedback form    Survey   Interviews  \\\n",
      "0        1    1.0       1.000000  0.000000     0.428571   \n",
      "1        2    1.0       0.800000  0.000000     1.000000   \n",
      "2        3    1.0       0.941176  0.411765     0.647059   \n",
      "\n",
      "   Dataset Like/Vote/Rate/Fav  Blog/News  Newsletter  Social Media  \\\n",
      "0                    0.428571        0.0    0.000000      0.714286   \n",
      "1                    0.600000        0.8    0.000000      1.000000   \n",
      "2                    0.588235        1.0    0.411765      1.000000   \n",
      "\n",
      "   User Forum / Discussion Forum  \\\n",
      "0                       0.000000   \n",
      "1                       1.000000   \n",
      "2                       0.058824   \n",
      "\n",
      "                                           Countries  \n",
      "0  [GREECE, ITALY, LATVIA, MALTA, AUSTRALIA, Unit...  \n",
      "1  [ESTONIA , GERMANY, LUXEMBOURG, PORTUGAL, SWED...  \n",
      "2  [AUSTRIA, BELGIUM, BULGARIA, CROATIA, CYPRUS, ...  \n"
     ]
    }
   ],
   "source": [
    "# Print the profiling table\n",
    "print(cluster_profiles.reset_index())"
   ]
  },
  {
   "cell_type": "code",
   "execution_count": 55,
   "id": "a858a2c6",
   "metadata": {},
   "outputs": [
    {
     "data": {
      "text/html": [
       "<div>\n",
       "<style scoped>\n",
       "    .dataframe tbody tr th:only-of-type {\n",
       "        vertical-align: middle;\n",
       "    }\n",
       "\n",
       "    .dataframe tbody tr th {\n",
       "        vertical-align: top;\n",
       "    }\n",
       "\n",
       "    .dataframe thead th {\n",
       "        text-align: right;\n",
       "    }\n",
       "</style>\n",
       "<table border=\"1\" class=\"dataframe\">\n",
       "  <thead>\n",
       "    <tr style=\"text-align: right;\">\n",
       "      <th></th>\n",
       "      <th>Cluster</th>\n",
       "      <th>Email</th>\n",
       "      <th>Feedback form</th>\n",
       "      <th>Survey</th>\n",
       "      <th>Interviews</th>\n",
       "      <th>Dataset Like/Vote/Rate/Fav</th>\n",
       "      <th>Blog/News</th>\n",
       "      <th>Newsletter</th>\n",
       "      <th>Social Media</th>\n",
       "      <th>User Forum / Discussion Forum</th>\n",
       "      <th>Countries</th>\n",
       "    </tr>\n",
       "  </thead>\n",
       "  <tbody>\n",
       "    <tr>\n",
       "      <th>0</th>\n",
       "      <td>1</td>\n",
       "      <td>1.0</td>\n",
       "      <td>1.000000</td>\n",
       "      <td>0.000000</td>\n",
       "      <td>0.428571</td>\n",
       "      <td>0.428571</td>\n",
       "      <td>0.0</td>\n",
       "      <td>0.000000</td>\n",
       "      <td>0.714286</td>\n",
       "      <td>0.000000</td>\n",
       "      <td>[GREECE, ITALY, LATVIA, MALTA, AUSTRALIA, Unit...</td>\n",
       "    </tr>\n",
       "    <tr>\n",
       "      <th>1</th>\n",
       "      <td>2</td>\n",
       "      <td>1.0</td>\n",
       "      <td>0.800000</td>\n",
       "      <td>0.000000</td>\n",
       "      <td>1.000000</td>\n",
       "      <td>0.600000</td>\n",
       "      <td>0.8</td>\n",
       "      <td>0.000000</td>\n",
       "      <td>1.000000</td>\n",
       "      <td>1.000000</td>\n",
       "      <td>[ESTONIA , GERMANY, LUXEMBOURG, PORTUGAL, SWED...</td>\n",
       "    </tr>\n",
       "    <tr>\n",
       "      <th>2</th>\n",
       "      <td>3</td>\n",
       "      <td>1.0</td>\n",
       "      <td>0.941176</td>\n",
       "      <td>0.411765</td>\n",
       "      <td>0.647059</td>\n",
       "      <td>0.588235</td>\n",
       "      <td>1.0</td>\n",
       "      <td>0.411765</td>\n",
       "      <td>1.000000</td>\n",
       "      <td>0.058824</td>\n",
       "      <td>[AUSTRIA, BELGIUM, BULGARIA, CROATIA, CYPRUS, ...</td>\n",
       "    </tr>\n",
       "  </tbody>\n",
       "</table>\n",
       "</div>"
      ],
      "text/plain": [
       "   Cluster  Email  Feedback form    Survey   Interviews  \\\n",
       "0        1    1.0       1.000000  0.000000     0.428571   \n",
       "1        2    1.0       0.800000  0.000000     1.000000   \n",
       "2        3    1.0       0.941176  0.411765     0.647059   \n",
       "\n",
       "   Dataset Like/Vote/Rate/Fav  Blog/News  Newsletter  Social Media  \\\n",
       "0                    0.428571        0.0    0.000000      0.714286   \n",
       "1                    0.600000        0.8    0.000000      1.000000   \n",
       "2                    0.588235        1.0    0.411765      1.000000   \n",
       "\n",
       "   User Forum / Discussion Forum  \\\n",
       "0                       0.000000   \n",
       "1                       1.000000   \n",
       "2                       0.058824   \n",
       "\n",
       "                                           Countries  \n",
       "0  [GREECE, ITALY, LATVIA, MALTA, AUSTRALIA, Unit...  \n",
       "1  [ESTONIA , GERMANY, LUXEMBOURG, PORTUGAL, SWED...  \n",
       "2  [AUSTRIA, BELGIUM, BULGARIA, CROATIA, CYPRUS, ...  "
      ]
     },
     "execution_count": 55,
     "metadata": {},
     "output_type": "execute_result"
    }
   ],
   "source": [
    "cluster_profiles.reset_index()"
   ]
  },
  {
   "cell_type": "code",
   "execution_count": 58,
   "id": "e2de58c6",
   "metadata": {},
   "outputs": [
    {
     "data": {
      "text/plain": [
       "Cluster\n",
       "1                                                                                                        [GREECE, ITALY, LATVIA, MALTA, AUSTRALIA, United States, CANADA]\n",
       "2                                                                                                                      [ESTONIA , GERMANY, LUXEMBOURG, PORTUGAL, SWEDEN ]\n",
       "3    [AUSTRIA, BELGIUM, BULGARIA, CROATIA, CYPRUS, CZECH REPUBLIC, DENMARK, FINLAND, FRANCE, IRELAND, LITHUANIA, NETHERLANDS, POLAND, ROMANIA, SLOVAKIA, SLOVENIA, SPAIN]\n",
       "Name: Countries, dtype: object"
      ]
     },
     "execution_count": 58,
     "metadata": {},
     "output_type": "execute_result"
    }
   ],
   "source": [
    "# Set pandas option to display the full content of the column\n",
    "pd.set_option('display.max_colwidth', None)\n",
    "\n",
    "cluster_profiles['Countries']"
   ]
  },
  {
   "cell_type": "code",
   "execution_count": 59,
   "id": "60fde532",
   "metadata": {},
   "outputs": [],
   "source": [
    "cluster_profiles = df.groupby('Cluster').mean()"
   ]
  },
  {
   "cell_type": "code",
   "execution_count": 60,
   "id": "dd5bef17",
   "metadata": {},
   "outputs": [],
   "source": [
    "cluster_profiles['Countries'] = df.groupby('Cluster')['Country'].apply(list)"
   ]
  },
  {
   "cell_type": "code",
   "execution_count": 61,
   "id": "561c515f",
   "metadata": {},
   "outputs": [],
   "source": [
    "pd.set_option('display.max_colwidth', None)"
   ]
  },
  {
   "cell_type": "code",
   "execution_count": 62,
   "id": "a6290509",
   "metadata": {},
   "outputs": [
    {
     "data": {
      "text/html": [
       "<div>\n",
       "<style scoped>\n",
       "    .dataframe tbody tr th:only-of-type {\n",
       "        vertical-align: middle;\n",
       "    }\n",
       "\n",
       "    .dataframe tbody tr th {\n",
       "        vertical-align: top;\n",
       "    }\n",
       "\n",
       "    .dataframe thead th {\n",
       "        text-align: right;\n",
       "    }\n",
       "</style>\n",
       "<table border=\"1\" class=\"dataframe\">\n",
       "  <thead>\n",
       "    <tr style=\"text-align: right;\">\n",
       "      <th></th>\n",
       "      <th>Email</th>\n",
       "      <th>Feedback form</th>\n",
       "      <th>Survey</th>\n",
       "      <th>Interviews</th>\n",
       "      <th>Dataset Like/Vote/Rate/Fav</th>\n",
       "      <th>Blog/News</th>\n",
       "      <th>Newsletter</th>\n",
       "      <th>Social Media</th>\n",
       "      <th>User Forum / Discussion Forum</th>\n",
       "      <th>Countries</th>\n",
       "    </tr>\n",
       "    <tr>\n",
       "      <th>Cluster</th>\n",
       "      <th></th>\n",
       "      <th></th>\n",
       "      <th></th>\n",
       "      <th></th>\n",
       "      <th></th>\n",
       "      <th></th>\n",
       "      <th></th>\n",
       "      <th></th>\n",
       "      <th></th>\n",
       "      <th></th>\n",
       "    </tr>\n",
       "  </thead>\n",
       "  <tbody>\n",
       "    <tr>\n",
       "      <th>1</th>\n",
       "      <td>1.0</td>\n",
       "      <td>1.000000</td>\n",
       "      <td>0.000000</td>\n",
       "      <td>0.428571</td>\n",
       "      <td>0.428571</td>\n",
       "      <td>0.0</td>\n",
       "      <td>0.000000</td>\n",
       "      <td>0.714286</td>\n",
       "      <td>0.000000</td>\n",
       "      <td>[GREECE, ITALY, LATVIA, MALTA, AUSTRALIA, United States, CANADA]</td>\n",
       "    </tr>\n",
       "    <tr>\n",
       "      <th>2</th>\n",
       "      <td>1.0</td>\n",
       "      <td>0.800000</td>\n",
       "      <td>0.000000</td>\n",
       "      <td>1.000000</td>\n",
       "      <td>0.600000</td>\n",
       "      <td>0.8</td>\n",
       "      <td>0.000000</td>\n",
       "      <td>1.000000</td>\n",
       "      <td>1.000000</td>\n",
       "      <td>[ESTONIA , GERMANY, LUXEMBOURG, PORTUGAL, SWEDEN ]</td>\n",
       "    </tr>\n",
       "    <tr>\n",
       "      <th>3</th>\n",
       "      <td>1.0</td>\n",
       "      <td>0.941176</td>\n",
       "      <td>0.411765</td>\n",
       "      <td>0.647059</td>\n",
       "      <td>0.588235</td>\n",
       "      <td>1.0</td>\n",
       "      <td>0.411765</td>\n",
       "      <td>1.000000</td>\n",
       "      <td>0.058824</td>\n",
       "      <td>[AUSTRIA, BELGIUM, BULGARIA, CROATIA, CYPRUS, CZECH REPUBLIC, DENMARK, FINLAND, FRANCE, IRELAND, LITHUANIA, NETHERLANDS, POLAND, ROMANIA, SLOVAKIA, SLOVENIA, SPAIN]</td>\n",
       "    </tr>\n",
       "  </tbody>\n",
       "</table>\n",
       "</div>"
      ],
      "text/plain": [
       "         Email  Feedback form    Survey   Interviews  \\\n",
       "Cluster                                                \n",
       "1          1.0       1.000000  0.000000     0.428571   \n",
       "2          1.0       0.800000  0.000000     1.000000   \n",
       "3          1.0       0.941176  0.411765     0.647059   \n",
       "\n",
       "         Dataset Like/Vote/Rate/Fav  Blog/News  Newsletter  Social Media  \\\n",
       "Cluster                                                                    \n",
       "1                          0.428571        0.0    0.000000      0.714286   \n",
       "2                          0.600000        0.8    0.000000      1.000000   \n",
       "3                          0.588235        1.0    0.411765      1.000000   \n",
       "\n",
       "         User Forum / Discussion Forum  \\\n",
       "Cluster                                  \n",
       "1                             0.000000   \n",
       "2                             1.000000   \n",
       "3                             0.058824   \n",
       "\n",
       "                                                                                                                                                                    Countries  \n",
       "Cluster                                                                                                                                                                        \n",
       "1                                                                                                            [GREECE, ITALY, LATVIA, MALTA, AUSTRALIA, United States, CANADA]  \n",
       "2                                                                                                                          [ESTONIA , GERMANY, LUXEMBOURG, PORTUGAL, SWEDEN ]  \n",
       "3        [AUSTRIA, BELGIUM, BULGARIA, CROATIA, CYPRUS, CZECH REPUBLIC, DENMARK, FINLAND, FRANCE, IRELAND, LITHUANIA, NETHERLANDS, POLAND, ROMANIA, SLOVAKIA, SLOVENIA, SPAIN]  "
      ]
     },
     "execution_count": 62,
     "metadata": {},
     "output_type": "execute_result"
    }
   ],
   "source": [
    "cluster_profiles"
   ]
  },
  {
   "cell_type": "code",
   "execution_count": 63,
   "id": "b27c2c99",
   "metadata": {},
   "outputs": [],
   "source": [
    "cluster_profiles.to_excel('Cluster_Profiling.xlsx', sheet_name='Profiles')"
   ]
  },
  {
   "cell_type": "code",
   "execution_count": null,
   "id": "d923748a",
   "metadata": {},
   "outputs": [],
   "source": []
  },
  {
   "cell_type": "code",
   "execution_count": null,
   "id": "35dda39b",
   "metadata": {},
   "outputs": [],
   "source": [
    "*** Another Try with 3 Clusters ***"
   ]
  },
  {
   "cell_type": "code",
   "execution_count": 28,
   "id": "4aa4d3b8",
   "metadata": {},
   "outputs": [],
   "source": [
    "import pandas as pd\n",
    "from scipy.cluster.hierarchy import linkage, dendrogram, fcluster\n",
    "import matplotlib.pyplot as plt"
   ]
  },
  {
   "cell_type": "code",
   "execution_count": 29,
   "id": "04dd4682",
   "metadata": {},
   "outputs": [],
   "source": [
    "# Load your data\n",
    "file_path = 'feedback_Testing.xlsx'  # Replace with your actual file path\n",
    "feedback_df = pd.read_excel(file_path)"
   ]
  },
  {
   "cell_type": "code",
   "execution_count": 30,
   "id": "559c5c0d",
   "metadata": {},
   "outputs": [],
   "source": [
    "# Prepare the data for clustering\n",
    "data_for_clustering = feedback_df.drop(columns=['Country'])\n"
   ]
  },
  {
   "cell_type": "code",
   "execution_count": 31,
   "id": "2c2c6c61",
   "metadata": {},
   "outputs": [],
   "source": [
    "# Perform hierarchical clustering\n",
    "linkage_matrix = linkage(data_for_clustering, method='ward')\n"
   ]
  },
  {
   "cell_type": "code",
   "execution_count": 32,
   "id": "d0ff05ed",
   "metadata": {},
   "outputs": [],
   "source": [
    "# Set the threshold for 3 clusters\n",
    "correct_threshold = 3  # Adjust based on dendrogram height for 3 clusters\n"
   ]
  },
  {
   "cell_type": "code",
   "execution_count": 33,
   "id": "481d6dcf",
   "metadata": {},
   "outputs": [],
   "source": [
    "# Generate cluster assignments for 3 clusters\n",
    "clusters = fcluster(linkage_matrix, t=3, criterion='maxclust')\n",
    "feedback_df['Cluster'] = clusters"
   ]
  },
  {
   "cell_type": "code",
   "execution_count": 35,
   "id": "c9926985",
   "metadata": {},
   "outputs": [
    {
     "data": {
      "image/png": "[encoded data removed]",
      "text/plain": [
       "<Figure size 720x432 with 1 Axes>"
      ]
     },
     "metadata": {
      "needs_background": "light"
     },
     "output_type": "display_data"
    }
   ],
   "source": [
    "# Plot the dendrogram with 3 consistent colors\n",
    "plt.figure(figsize=(10, 6))\n",
    "dendrogram(\n",
    "    linkage_matrix,\n",
    "    labels=feedback_df['Country'].values,\n",
    "    leaf_rotation=90,\n",
    "    leaf_font_size=10,\n",
    "    color_threshold=correct_threshold  # Set to threshold for consistent 3 colors\n",
    ")\n",
    "plt.axhline(y=correct_threshold, color='r', linestyle='--', label='Cut-off for 3 Clusters')\n",
    "#plt.title(\"Dendrogram with 3 Clusters\")\n",
    "plt.xlabel(\"Countries\")\n",
    "plt.ylabel(\"Euclidean Distance\")\n",
    "plt.legend()\n",
    "plt.savefig(\"Dendrogram_3_Clusters_Consistent.pdf\", format='pdf')\n",
    "plt.show()\n"
   ]
  },
  {
   "cell_type": "code",
   "execution_count": null,
   "id": "79c567f1",
   "metadata": {},
   "outputs": [],
   "source": [
    "((** Now with Acronym of the Counteries))"
   ]
  },
  {
   "cell_type": "code",
   "execution_count": 45,
   "id": "b55e0a69",
   "metadata": {},
   "outputs": [],
   "source": [
    "import pandas as pd\n",
    "from scipy.cluster.hierarchy import linkage, dendrogram, fcluster\n",
    "import matplotlib.pyplot as plt"
   ]
  },
  {
   "cell_type": "code",
   "execution_count": 46,
   "id": "39229503",
   "metadata": {},
   "outputs": [],
   "source": [
    "# Load your data\n",
    "file_path = 'feedback_Testing.xlsx'  # Replace with your actual file path\n",
    "feedback_df = pd.read_excel(file_path)"
   ]
  },
  {
   "cell_type": "code",
   "execution_count": 47,
   "id": "8febae56",
   "metadata": {},
   "outputs": [],
   "source": [
    "# Define the mapping dictionary (country names -> acronyms)\n",
    "country_to_acronym = {\n",
    "    'Australia': 'AU', 'Austria': 'AT', 'Belgium': 'BE', 'Bulgaria': 'BG',\n",
    "    'Canada': 'CA', 'Croatia': 'HR', 'Cyprus': 'CY', 'Czech Republic': 'CZ',\n",
    "    'Denmark': 'DK', 'Estonia': 'EE', 'Finland': 'FI', 'France': 'FR',\n",
    "    'Germany': 'DE', 'Greece': 'GR', 'Ireland': 'IE', 'Italy': 'IT',\n",
    "    'Latvia': 'LV', 'Lithuania': 'LT', 'Luxembourg': 'LU', 'Malta': 'MT',\n",
    "    'Netherlands': 'NL', 'Poland': 'PL', 'Portugal': 'PT', 'Romania': 'RO',\n",
    "    'Slovakia': 'SK', 'Slovenia': 'SI', 'Spain': 'ES', 'Sweden': 'SE',\n",
    "    'United States': 'US'\n",
    "}"
   ]
  },
  {
   "cell_type": "code",
   "execution_count": 48,
   "id": "89e9d9fb",
   "metadata": {},
   "outputs": [],
   "source": [
    "\n",
    "# Clean and normalize the 'Country' column\n",
    "feedback_df['Country'] = feedback_df['Country'].str.strip().str.title()  # Remove spaces and standardize case\n"
   ]
  },
  {
   "cell_type": "code",
   "execution_count": 49,
   "id": "99d3151c",
   "metadata": {},
   "outputs": [],
   "source": [
    "# Check unmapped countries\n",
    "unmapped_countries = feedback_df[~feedback_df['Country'].isin(country_to_acronym.keys())]\n",
    "if not unmapped_countries.empty:\n",
    "    print(\"Unmapped countries detected. Please update the mapping dictionary with the following:\")\n",
    "    print(unmapped_countries['Country'].unique())"
   ]
  },
  {
   "cell_type": "code",
   "execution_count": 50,
   "id": "ca1a65a0",
   "metadata": {},
   "outputs": [],
   "source": [
    "# Map full country names to acronyms\n",
    "feedback_df['Country'] = feedback_df['Country'].map(country_to_acronym)"
   ]
  },
  {
   "cell_type": "code",
   "execution_count": 51,
   "id": "1db5ae72",
   "metadata": {},
   "outputs": [],
   "source": [
    "# Verify mapping\n",
    "if feedback_df['Country'].isna().any():\n",
    "    print(\"Some countries could not be mapped to acronyms. Check the dictionary or dataset.\")\n"
   ]
  },
  {
   "cell_type": "code",
   "execution_count": 52,
   "id": "08aa6b58",
   "metadata": {},
   "outputs": [],
   "source": [
    "# Prepare the data for clustering\n",
    "data_for_clustering = feedback_df.drop(columns=['Country'])"
   ]
  },
  {
   "cell_type": "code",
   "execution_count": 53,
   "id": "95d6343a",
   "metadata": {},
   "outputs": [],
   "source": [
    "# Perform hierarchical clustering\n",
    "linkage_matrix = linkage(data_for_clustering, method='ward')"
   ]
  },
  {
   "cell_type": "code",
   "execution_count": 54,
   "id": "90670800",
   "metadata": {},
   "outputs": [],
   "source": [
    "# Set the threshold for 3 clusters\n",
    "correct_threshold = 3  # Adjust based on dendrogram height for 3 clusters"
   ]
  },
  {
   "cell_type": "code",
   "execution_count": 55,
   "id": "a610a189",
   "metadata": {},
   "outputs": [],
   "source": [
    "# Generate cluster assignments for 3 clusters\n",
    "clusters = fcluster(linkage_matrix, t=3, criterion='maxclust')\n",
    "feedback_df['Cluster'] = clusters"
   ]
  },
  {
   "cell_type": "code",
   "execution_count": 57,
   "id": "7b8193e8",
   "metadata": {},
   "outputs": [
    {
     "data": {
      "image/png": "[encoded data removed]",
      "text/plain": [
       "<Figure size 720x432 with 1 Axes>"
      ]
     },
     "metadata": {
      "needs_background": "light"
     },
     "output_type": "display_data"
    }
   ],
   "source": [
    "# Plot the dendrogram with 3 consistent colors and acronyms\n",
    "plt.figure(figsize=(10, 6))\n",
    "dendrogram(\n",
    "    linkage_matrix,\n",
    "    labels=feedback_df['Country'].values,  # Use acronyms for labels\n",
    "    leaf_rotation=90,\n",
    "    leaf_font_size=10,\n",
    "    color_threshold=correct_threshold  # Ensure consistent 3 colors\n",
    ")\n",
    "plt.axhline(y=correct_threshold, color='r', linestyle='--', label='Cut-off for 3 Clusters')\n",
    "#plt.title(\"Dendrogram with 3 Clusters (Acronyms)\")\n",
    "plt.xlabel(\"Countries\")\n",
    "plt.ylabel(\"Euclidean Distance\")\n",
    "plt.legend()\n",
    "plt.savefig(\"Dendrogram_3_Clusters_Acronyms_Fixed.pdf\", format='pdf')\n",
    "plt.show()"
   ]
  },
  {
   "cell_type": "code",
   "execution_count": null,
   "id": "633c8f5b",
   "metadata": {},
   "outputs": [],
   "source": []
  }
 ],
 "metadata": {
  "kernelspec": {
   "display_name": "Python 3 (ipykernel)",
   "language": "python",
   "name": "python3"
  },
  "language_info": {
   "codemirror_mode": {
    "name": "ipython",
    "version": 3
   },
   "file_extension": ".py",
   "mimetype": "text/x-python",
   "name": "python",
   "nbconvert_exporter": "python",
   "pygments_lexer": "ipython3",
   "version": "3.7.13"
  }
 },
 "nbformat": 4,
 "nbformat_minor": 5
}
